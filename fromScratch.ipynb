{
 "cells": [
  {
   "cell_type": "code",
   "execution_count": 3,
   "metadata": {},
   "outputs": [],
   "source": [
    "import numpy as np\n",
    "from keras.datasets import mnist"
   ]
  },
  {
   "cell_type": "code",
   "execution_count": 4,
   "metadata": {},
   "outputs": [],
   "source": [
    "#loading dataset\n",
    "(x_train,y_train),(x_test,y_test) = mnist.load_data()\n",
    "\n",
    "#selecting 1000 train images and 100 test images\n",
    "x_train = x_train[0:1000]\n",
    "y_train = y_train[0:1000]\n",
    "x_test = x_test[0:100]\n",
    "y_test = y_test[0:100]\n",
    "\n",
    "#Flatten the images\n",
    "x_train = x_train.reshape(x_train.shape[0],x_train.shape[1]*x_train.shape[2])\n",
    "x_test = x_test.reshape(x_test.shape[0],x_test.shape[1]*x_test.shape[2])\n",
    "\n",
    "#normalising \n",
    "x_train = x_train.astype('float32')/255\n",
    "x_test = x_test.astype('float32')/255"
   ]
  },
  {
   "cell_type": "code",
   "execution_count": null,
   "metadata": {},
   "outputs": [],
   "source": [
    "def init_params(layer_dim):\n",
    "    \"\"\"\n",
    "    Initializes parameters\n",
    "    Arguments: \n",
    "    layer_dim: \n",
    "    \"\"\"\n",
    "    params = {}\n",
    "    nb_layers = len(layer_dim) # '#layers'\n",
    "    \n",
    "    for l in range(1,num_layers):\n",
    "        params['w' + str(l)] = np.random.randn(layer_dim[l],layer_dim[l-1]) * 0.001\n",
    "        params['b' + str(l)] = np.zeros((layer_dim[l],1))\n",
    "    return params"
   ]
  },
  {
   "cell_type": "code",
   "execution_count": null,
   "metadata": {},
   "outputs": [],
   "source": [
    "def elu(alpha):\n",
    "    y = x >= 0 ? x : alpha * (exp(x) - 1)"
   ]
  },
  {
   "cell_type": "code",
   "execution_count": null,
   "metadata": {},
   "outputs": [],
   "source": [
    "def softmax(A):\n",
    "    t = np.exp(A)\n",
    "    sum =  \n",
    "    "
   ]
  },
  {
   "cell_type": "code",
   "execution_count": null,
   "metadata": {},
   "outputs": [],
   "source": [
    "def dense(A_prev ,W ,b, activation):\n",
    "    Z = np.dot(W, A_prev) + b\n",
    "    if activation ==  \"elu\":\n",
    "        A = elu(Z)\n",
    "    elif activation == \"softmax\":\n",
    "        A = softmax(Z)\n",
    "    else:\n",
    "        print(\"Invalid Activation\")\n",
    "        return \n",
    "    \n",
    "    return A\n",
    "    "
   ]
  },
  {
   "cell_type": "code",
   "execution_count": null,
   "metadata": {},
   "outputs": [],
   "source": [
    "def cost(output, label):\n",
    "    \n",
    "    m = label.shape[1]\n",
    "    \n",
    "    cost = (-1 / m) * np.sum(np.multiply(label, np.log(output)) + np.multiply(1 - label, np.log(1 - output)))\n",
    "    \n",
    "    cost = np.squeeze(cost)\n",
    "    \n",
    "    return cost"
   ]
  }
 ],
 "metadata": {
  "kernelspec": {
   "display_name": "Python 3",
   "language": "python",
   "name": "python3"
  },
  "language_info": {
   "codemirror_mode": {
    "name": "ipython",
    "version": 2
   },
   "file_extension": ".py",
   "mimetype": "text/x-python",
   "name": "python",
   "nbconvert_exporter": "python",
   "pygments_lexer": "ipython2",
   "version": "2.7.13"
  }
 },
 "nbformat": 4,
 "nbformat_minor": 2
}
