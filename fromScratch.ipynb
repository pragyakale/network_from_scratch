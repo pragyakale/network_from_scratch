{
 "cells": [
  {
   "cell_type": "code",
   "execution_count": 4,
   "metadata": {},
   "outputs": [
    {
     "name": "stderr",
     "output_type": "stream",
     "text": [
      "Using TensorFlow backend.\n"
     ]
    }
   ],
   "source": [
    "import numpy as np\n",
    "from keras.datasets import mnist"
   ]
  },
  {
   "cell_type": "code",
   "execution_count": 4,
   "metadata": {},
   "outputs": [],
   "source": [
    "#loading dataset\n",
    "(x_train,y_train),(x_test,y_test) = mnist.load_data()\n",
    "\n",
    "#selecting 1000 train images and 100 test images\n",
    "x_train = x_train[0:1000]\n",
    "y_train = y_train[0:1000]\n",
    "x_test = x_test[0:100]\n",
    "y_test = y_test[0:100]\n",
    "\n",
    "#Flatten the images\n",
    "x_train = x_train.reshape(x_train.shape[0],x_train.shape[1]*x_train.shape[2])\n",
    "x_test = x_test.reshape(x_test.shape[0],x_test.shape[1]*x_test.shape[2])\n",
    "\n",
    "#normalising \n",
    "x_train = x_train.astype('float32')/255\n",
    "x_test = x_test.astype('float32')/255"
   ]
  },
  {
   "cell_type": "code",
   "execution_count": 14,
   "metadata": {},
   "outputs": [],
   "source": [
    "def init_params(layer_dim):\n",
    "    \"\"\"\n",
    "    Initializes parameters\n",
    "    Arguments: \n",
    "    layer_dim: \n",
    "    \"\"\"\n",
    "    params = {}\n",
    "    nb_layers = len(layer_dim) # '#layers'\n",
    "    \n",
    "    for l in range(1,nb_layers):\n",
    "        params['W' + str(l)] = np.random.randn(layer_dim[l],layer_dim[l-1]) * 0.001\n",
    "        params['b' + str(l)] = np.zeros((layer_dim[l],1))\n",
    "    return params"
   ]
  },
  {
   "cell_type": "code",
   "execution_count": 3,
   "metadata": {},
   "outputs": [],
   "source": [
    "def relu(Z):\n",
    "    A = np.maximim(Z,0)\n",
    "    # dA = 0 if Z < 0 else 1 \n",
    "    return A"
   ]
  },
  {
   "cell_type": "code",
   "execution_count": null,
   "metadata": {},
   "outputs": [],
   "source": [
    "def softmax(Z):\n",
    "    A = np.exp(Z)\n",
    "    return A / np.sum(A)\n",
    "    \n",
    "    "
   ]
  },
  {
   "cell_type": "code",
   "execution_count": null,
   "metadata": {},
   "outputs": [],
   "source": [
    "def forward(layer_dim, X ):\n",
    "    \n",
    "    params = init_params(layer_dim)\n",
    "    cache = {}\n",
    "    A = X\n",
    "    nb_layers = len(layer_dim) - 1\n",
    "    \n",
    "    for l in range(1,nb_layers):\n",
    "        A_prev = A\n",
    "        Z = np.dot(params[\"W\" + l], A_prev) + params[\"b\" + l]\n",
    "        A = relu(Z)\n",
    "        cache[\"A\" + l] = A \n",
    "        cache[\"Z\" + l] = Z\n",
    "        \n",
    "    A_prev = A    \n",
    "    Z = np.dot(params[\"W\" + nb_layers], A_prev) + params[\"b\" + nb_layers]    \n",
    "    A = softmax(Z)\n",
    "    cache[\"A\" + nb_layers] = A\n",
    "    cache[\"Z\" + nb_layers] = Z\n",
    "    \n",
    "    return params, cache\n",
    "    "
   ]
  },
  {
   "cell_type": "code",
   "execution_count": null,
   "metadata": {},
   "outputs": [],
   "source": [
    "def cost(output, label):\n",
    "    \n",
    "    m = label.shape[1]\n",
    "    cost = (-1 / m) * np.sum(np.multiply(label, np.log(output)) + np.multiply(1 - label, np.log(1 - output)))\n",
    "    cost = np.squeeze(cost)\n",
    "    return cost"
   ]
  },
  {
   "cell_type": "code",
   "execution_count": null,
   "metadata": {},
   "outputs": [],
   "source": [
    "def backward(params, Y, cache):\n",
    "    grads = {}\n",
    "    L = len(cache) / 2\n",
    "    \n",
    "    AL = cache[\"A\" + str(L)]\n",
    "    \n",
    "    dAL = - (np.divide(Y, AL) - np.divide(1 - Y, 1 - AL))\n",
    "    dZL = \"\"\"softmax_back\"\"\" * dAL\n",
    "    dA_prev = \"\"\"something\"\"\" * dZL\n",
    "    grads[\"W\" + str(L)] = * dZL\n",
    "    grads[\"b\" + str(L)] = * dZL\n",
    "    \n",
    "    for l in reversed(range(L-1)):\n",
    "        dA_prev = dA\n",
    "        dZL = \"\"\"relu_back\"\"\" * dA_prev\n",
    "        dA_prev = \"\"\"something\"\"\" * dZL\n",
    "        grads[\"dW\" + str(l + 1)] = \"\"\"something\"\"\" * dZL # or (l + 1)\n",
    "        grads[\"db\" + str(l + 1)] = \"\"\"something\"\"\" * dZL\n",
    "        dA = \"\"\"something\"\"\" * dZL\n",
    "        \n",
    "    return grads"
   ]
  }
 ],
 "metadata": {
  "kernelspec": {
   "display_name": "Python 3",
   "language": "python",
   "name": "python3"
  },
  "language_info": {
   "codemirror_mode": {
    "name": "ipython",
    "version": 2
   },
   "file_extension": ".py",
   "mimetype": "text/x-python",
   "name": "python",
   "nbconvert_exporter": "python",
   "pygments_lexer": "ipython2",
   "version": "2.7.14"
  }
 },
 "nbformat": 4,
 "nbformat_minor": 2
}
