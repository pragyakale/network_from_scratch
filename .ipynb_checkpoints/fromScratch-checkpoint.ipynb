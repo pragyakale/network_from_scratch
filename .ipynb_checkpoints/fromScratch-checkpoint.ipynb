{
 "cells": [
  {
   "cell_type": "code",
   "execution_count": 1,
   "metadata": {},
   "outputs": [],
   "source": [
    "import numpy as np"
   ]
  },
  {
   "cell_type": "code",
   "execution_count": null,
   "metadata": {},
   "outputs": [],
   "source": [
    "def init_params(layer_dim):\n",
    "    \"\"\"\n",
    "    Initializes parameters\n",
    "    Arguments: \n",
    "    layer_dim: \n",
    "    \"\"\"\n",
    "    params = {}\n",
    "    nb_layers = len(layer_dim) # '#layers'\n",
    "    \n",
    "    for l in range(1,num_layers):\n",
    "        params['w' + str(l)] = np.random.randn(layer_dim[l],layer_dim[l-1]) * 0.001\n",
    "        params['b' + str(l)] = np.zeros((layer_dim[l],1))\n",
    "    return params"
   ]
  },
  {
   "cell_type": "code",
   "execution_count": null,
   "metadata": {},
   "outputs": [],
   "source": [
    "def elu()"
   ]
  },
  {
   "cell_type": "code",
   "execution_count": null,
   "metadata": {},
   "outputs": [],
   "source": [
    "def forward(A_prev, w, b, activation ):\n",
    "    if activation == \"elu\":\n",
    "        Z = np.dot(w,A_prev) + b \n",
    "        A = relu(Z)\n",
    "    elif activation = \"softmax\":\n",
    "        Z = np.dot(w,A_prev) + b\n",
    "        A = softmax()\n",
    "    \n",
    "    cache = ()\n",
    "    return A, cache"
   ]
  },
  {
   "cell_type": "code",
   "execution_count": null,
   "metadata": {},
   "outputs": [],
   "source": [
    "def dense(neurons,A_prev,params):\n",
    "    "
   ]
  },
  {
   "cell_type": "code",
   "execution_count": null,
   "metadata": {},
   "outputs": [],
   "source": [
    "def elu():\n",
    "    "
   ]
  },
  {
   "cell_type": "code",
   "execution_count": null,
   "metadata": {},
   "outputs": [],
   "source": [
    "def softmax():\n",
    "    "
   ]
  }
 ],
 "metadata": {
  "kernelspec": {
   "display_name": "Python 3",
   "language": "python",
   "name": "python3"
  },
  "language_info": {
   "codemirror_mode": {
    "name": "ipython",
    "version": 2
   },
   "file_extension": ".py",
   "mimetype": "text/x-python",
   "name": "python",
   "nbconvert_exporter": "python",
   "pygments_lexer": "ipython2",
   "version": "2.7.13"
  }
 },
 "nbformat": 4,
 "nbformat_minor": 2
}
