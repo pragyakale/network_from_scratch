{
 "cells": [
  {
   "cell_type": "code",
   "execution_count": 1,
   "metadata": {},
   "outputs": [
    {
     "name": "stderr",
     "output_type": "stream",
     "text": [
      "Using TensorFlow backend.\n"
     ]
    }
   ],
   "source": [
    "from keras.datasets import mnist\n",
    "from keras.utils import to_categorical\n",
    "from keras.layers import Dense\n",
    "from keras.models import Sequential\n",
    "import numpy as np"
   ]
  },
  {
   "cell_type": "code",
   "execution_count": 4,
   "metadata": {},
   "outputs": [
    {
     "name": "stdout",
     "output_type": "stream",
     "text": [
      "784\n"
     ]
    }
   ],
   "source": [
    "#loading dataset\n",
    "(x_train,y_train),(x_test,y_test) = mnist.load_data()\n",
    "\n",
    "#selecting 1000 train images and 100 test images\n",
    "x_train = x_train[0:1000]\n",
    "y_train = y_train[0:1000]\n",
    "x_test = x_test[0:100]\n",
    "y_test = y_test[0:100]\n",
    "\n",
    "#Flatten the images\n",
    "x_train = x_train.reshape(x_train.shape[0],x_train.shape[1]*x_train.shape[2])\n",
    "x_test = x_test.reshape(x_test.shape[0],x_test.shape[1]*x_test.shape[2])\n",
    "\n",
    "#Transform labels into categorical form\n",
    "y_train = to_categorical(y_train)\n",
    "y_test = to_categorical(y_test)\n",
    "\n",
    "#normalising \n",
    "x_train = x_train.astype('float32')/255\n",
    "x_test = x_test.astype('float32')/255\n",
    "\n",
    "print(len(x_train[0]))"
   ]
  },
  {
   "cell_type": "code",
   "execution_count": 3,
   "metadata": {},
   "outputs": [
    {
     "name": "stdout",
     "output_type": "stream",
     "text": [
      "_________________________________________________________________\n",
      "Layer (type)                 Output Shape              Param #   \n",
      "=================================================================\n",
      "dense_1 (Dense)              (None, 516)               405060    \n",
      "_________________________________________________________________\n",
      "dense_2 (Dense)              (None, 128)               66176     \n",
      "_________________________________________________________________\n",
      "dense_3 (Dense)              (None, 10)                1290      \n",
      "=================================================================\n",
      "Total params: 472,526\n",
      "Trainable params: 472,526\n",
      "Non-trainable params: 0\n",
      "_________________________________________________________________\n"
     ]
    }
   ],
   "source": [
    "#Building the model using Sequential API\n",
    "model = Sequential()\n",
    "model.add(Dense(516, activation = 'elu', input_shape = x_train[0].shape))\n",
    "model.add(Dense(128, activation = 'elu'))\n",
    "model.add(Dense(10, activation = 'softmax'))\n",
    "\n",
    "model.compile(optimizer = 'adam', loss = 'categorical_crossentropy', metrics=['accuracy'])\n",
    "model.summary()"
   ]
  },
  {
   "cell_type": "code",
   "execution_count": 4,
   "metadata": {},
   "outputs": [
    {
     "name": "stdout",
     "output_type": "stream",
     "text": [
      "Train on 1000 samples, validate on 100 samples\n",
      "Epoch 1/10\n",
      "1000/1000 [==============================] - 0s - loss: 0.9376 - acc: 0.6940 - val_loss: 0.4847 - val_acc: 0.8200\n",
      "Epoch 2/10\n",
      "1000/1000 [==============================] - 0s - loss: 0.3302 - acc: 0.9060 - val_loss: 0.3164 - val_acc: 0.9100\n",
      "Epoch 3/10\n",
      "1000/1000 [==============================] - 0s - loss: 0.2354 - acc: 0.9260 - val_loss: 0.3887 - val_acc: 0.8500\n",
      "Epoch 4/10\n",
      "1000/1000 [==============================] - 0s - loss: 0.1466 - acc: 0.9630 - val_loss: 0.3222 - val_acc: 0.8900\n",
      "Epoch 5/10\n",
      "1000/1000 [==============================] - 0s - loss: 0.1068 - acc: 0.9730 - val_loss: 0.3644 - val_acc: 0.8800\n",
      "Epoch 6/10\n",
      "1000/1000 [==============================] - 0s - loss: 0.0720 - acc: 0.9860 - val_loss: 0.3161 - val_acc: 0.9200\n",
      "Epoch 7/10\n",
      "1000/1000 [==============================] - 0s - loss: 0.0531 - acc: 0.9900 - val_loss: 0.3710 - val_acc: 0.8700\n",
      "Epoch 8/10\n",
      "1000/1000 [==============================] - 0s - loss: 0.0355 - acc: 0.9960 - val_loss: 0.2909 - val_acc: 0.9100\n",
      "Epoch 9/10\n",
      "1000/1000 [==============================] - 0s - loss: 0.0215 - acc: 0.9990 - val_loss: 0.3207 - val_acc: 0.9000\n",
      "Epoch 10/10\n",
      "1000/1000 [==============================] - 0s - loss: 0.0123 - acc: 1.0000 - val_loss: 0.3245 - val_acc: 0.9000\n"
     ]
    }
   ],
   "source": [
    "#Training the model\n",
    "history = model.fit(x_train, y_train, validation_data = (x_test, y_test),epochs = 10)"
   ]
  }
 ],
 "metadata": {
  "kernelspec": {
   "display_name": "Python 3",
   "language": "python",
   "name": "python3"
  },
  "language_info": {
   "codemirror_mode": {
    "name": "ipython",
    "version": 2
   },
   "file_extension": ".py",
   "mimetype": "text/x-python",
   "name": "python",
   "nbconvert_exporter": "python",
   "pygments_lexer": "ipython2",
   "version": "2.7.13"
  }
 },
 "nbformat": 4,
 "nbformat_minor": 2
}
